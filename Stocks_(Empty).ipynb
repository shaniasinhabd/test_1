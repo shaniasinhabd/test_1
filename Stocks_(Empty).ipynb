{
  "cells": [
    {
      "cell_type": "markdown",
      "id": "7131600b",
      "metadata": {
        "id": "7131600b"
      },
      "source": [
        "# Intro to Data Science\n",
        "## Case study: Analysis of Stocks\n",
        "## Goal: Which of the given stocks is more volatile?\n",
        "\n",
        "Learning outcomes:\n",
        "- Refresh Python knowledge (modules, datatypes, math, loops, functions...)\n",
        "- Using modules\n",
        "- Basic usage: Pandas (DataFrames, plotting)"
      ]
    },
    {
      "cell_type": "markdown",
      "id": "398d0a18",
      "metadata": {
        "id": "398d0a18"
      },
      "source": [
        "### Download and install packages\n",
        "Generally, use pip (['package installer for python'](www.pypi.org/project/pip)) to install packages for Python (i.e. borrow reusable code from other authors)"
      ]
    },
    {
      "cell_type": "code",
      "execution_count": null,
      "id": "60b5dff3",
      "metadata": {
        "id": "60b5dff3"
      },
      "outputs": [],
      "source": [
        "!pip install yfinance"
      ]
    },
    {
      "cell_type": "markdown",
      "id": "370280c8",
      "metadata": {
        "id": "370280c8"
      },
      "source": [
        "### Load modules\n",
        "Load in packages/modules to use for our current project"
      ]
    },
    {
      "cell_type": "code",
      "execution_count": null,
      "id": "671a0650",
      "metadata": {
        "id": "671a0650"
      },
      "outputs": [],
      "source": [
        "print(\"hello world\")"
      ]
    },
    {
      "cell_type": "markdown",
      "id": "c3352486",
      "metadata": {
        "id": "c3352486"
      },
      "source": [
        "# Let's begin! Downloading and exploring data"
      ]
    },
    {
      "cell_type": "code",
      "execution_count": null,
      "id": "ac4886c1",
      "metadata": {
        "id": "ac4886c1"
      },
      "outputs": [],
      "source": [
        "df_aapl = yf.download(\n",
        "            tickers = \"\",\n",
        "            period = \"\",\n",
        "            interval = \"\"\n",
        "          )"
      ]
    },
    {
      "cell_type": "markdown",
      "id": "b45cbb66",
      "metadata": {
        "id": "b45cbb66"
      },
      "source": [
        "### View tables"
      ]
    },
    {
      "cell_type": "code",
      "execution_count": null,
      "id": "e00ceba1",
      "metadata": {
        "id": "e00ceba1"
      },
      "outputs": [],
      "source": []
    },
    {
      "cell_type": "code",
      "execution_count": null,
      "id": "de2b70da",
      "metadata": {
        "id": "de2b70da"
      },
      "outputs": [],
      "source": []
    },
    {
      "cell_type": "markdown",
      "id": "46319e23",
      "metadata": {
        "id": "46319e23"
      },
      "source": [
        "### Saving and loading CSVs"
      ]
    },
    {
      "cell_type": "code",
      "execution_count": null,
      "id": "d4937971",
      "metadata": {
        "id": "d4937971"
      },
      "outputs": [],
      "source": [
        "df_aapl.to_csv(\"aapl_5yr.csv\")"
      ]
    },
    {
      "cell_type": "code",
      "execution_count": null,
      "id": "ee0f3a74",
      "metadata": {
        "id": "ee0f3a74"
      },
      "outputs": [],
      "source": [
        "df_aapl = pd.read_csv(\"aapl_5yr.csv\")"
      ]
    },
    {
      "cell_type": "code",
      "execution_count": null,
      "id": "b91186ce",
      "metadata": {
        "id": "b91186ce"
      },
      "outputs": [],
      "source": []
    },
    {
      "cell_type": "code",
      "execution_count": null,
      "id": "078f1a74",
      "metadata": {
        "id": "078f1a74"
      },
      "outputs": [],
      "source": []
    },
    {
      "cell_type": "markdown",
      "id": "07dbf34c",
      "metadata": {
        "id": "07dbf34c"
      },
      "source": [
        "### Plots"
      ]
    },
    {
      "cell_type": "code",
      "execution_count": null,
      "id": "140fa54b",
      "metadata": {
        "id": "140fa54b"
      },
      "outputs": [],
      "source": []
    },
    {
      "cell_type": "code",
      "execution_count": null,
      "id": "99108455",
      "metadata": {
        "id": "99108455"
      },
      "outputs": [],
      "source": []
    },
    {
      "cell_type": "markdown",
      "id": "6ad9f1b8",
      "metadata": {
        "id": "6ad9f1b8"
      },
      "source": [
        "## Functions for multiple dfs"
      ]
    },
    {
      "cell_type": "code",
      "execution_count": null,
      "id": "4169fe25",
      "metadata": {
        "id": "4169fe25"
      },
      "outputs": [],
      "source": []
    },
    {
      "cell_type": "code",
      "execution_count": null,
      "id": "8182fe6a",
      "metadata": {
        "id": "8182fe6a"
      },
      "outputs": [],
      "source": []
    },
    {
      "cell_type": "code",
      "execution_count": null,
      "id": "1f164cf4",
      "metadata": {
        "id": "1f164cf4"
      },
      "outputs": [],
      "source": []
    },
    {
      "cell_type": "code",
      "execution_count": null,
      "id": "068d6219",
      "metadata": {
        "id": "068d6219"
      },
      "outputs": [],
      "source": []
    },
    {
      "cell_type": "markdown",
      "id": "53ce62b6",
      "metadata": {
        "id": "53ce62b6"
      },
      "source": [
        "## Comparitive plots"
      ]
    },
    {
      "cell_type": "code",
      "execution_count": null,
      "id": "51d842c8",
      "metadata": {
        "id": "51d842c8"
      },
      "outputs": [],
      "source": [
        "# Base plots\n"
      ]
    },
    {
      "cell_type": "code",
      "execution_count": null,
      "id": "1f3ad270",
      "metadata": {
        "id": "1f3ad270"
      },
      "outputs": [],
      "source": [
        "# Calculate diff\n"
      ]
    },
    {
      "cell_type": "code",
      "execution_count": null,
      "id": "c2ec8105",
      "metadata": {
        "id": "c2ec8105"
      },
      "outputs": [],
      "source": []
    },
    {
      "cell_type": "code",
      "execution_count": null,
      "id": "481a2ce8",
      "metadata": {
        "id": "481a2ce8"
      },
      "outputs": [],
      "source": []
    },
    {
      "cell_type": "markdown",
      "id": "7e03eeac",
      "metadata": {
        "id": "7e03eeac"
      },
      "source": [
        "---\n",
        "# Total pipeline"
      ]
    },
    {
      "cell_type": "code",
      "execution_count": null,
      "id": "1ae0d623",
      "metadata": {
        "id": "1ae0d623",
        "colab": {
          "base_uri": "https://localhost:8080/",
          "height": 243
        },
        "outputId": "7bd7688e-349e-4ae2-f424-b586340a8e0b"
      },
      "outputs": [
        {
          "output_type": "error",
          "ename": "NameError",
          "evalue": "ignored",
          "traceback": [
            "\u001b[0;31m---------------------------------------------------------------------------\u001b[0m",
            "\u001b[0;31mNameError\u001b[0m                                 Traceback (most recent call last)",
            "\u001b[0;32m<ipython-input-1-7fbffb8dce88>\u001b[0m in \u001b[0;36m<module>\u001b[0;34m\u001b[0m\n\u001b[1;32m      1\u001b[0m \u001b[0;31m# load data\u001b[0m\u001b[0;34m\u001b[0m\u001b[0;34m\u001b[0m\u001b[0;34m\u001b[0m\u001b[0m\n\u001b[0;32m----> 2\u001b[0;31m \u001b[0mdf_aapl\u001b[0m \u001b[0;34m=\u001b[0m \u001b[0mload_ticker_data\u001b[0m\u001b[0;34m(\u001b[0m\u001b[0;34m\"AAPL_5y_1d.csv\"\u001b[0m\u001b[0;34m)\u001b[0m\u001b[0;34m\u001b[0m\u001b[0;34m\u001b[0m\u001b[0m\n\u001b[0m\u001b[1;32m      3\u001b[0m \u001b[0mdf_tsla\u001b[0m \u001b[0;34m=\u001b[0m \u001b[0mload_ticker_data\u001b[0m\u001b[0;34m(\u001b[0m\u001b[0;34m\"TSLA_5y_1d.csv\"\u001b[0m\u001b[0;34m)\u001b[0m\u001b[0;34m\u001b[0m\u001b[0;34m\u001b[0m\u001b[0m\n\u001b[1;32m      4\u001b[0m \u001b[0;34m\u001b[0m\u001b[0m\n\u001b[1;32m      5\u001b[0m \u001b[0;31m# calculate returns\u001b[0m\u001b[0;34m\u001b[0m\u001b[0;34m\u001b[0m\u001b[0;34m\u001b[0m\u001b[0m\n",
            "\u001b[0;31mNameError\u001b[0m: name 'load_ticker_data' is not defined"
          ]
        }
      ],
      "source": [
        "# load data\n",
        "df_aapl = load_ticker_data(\"AAPL_5y_1d.csv\")\n",
        "df_tsla = load_ticker_data(\"TSLA_5y_1d.csv\")\n",
        "\n",
        "# calculate returns\n",
        "df_aapl = construct_diff_col(df_aapl)\n",
        "df_tsla = construct_diff_col(df_tsla)\n",
        "\n",
        "ax = df_tsla[[\"Returns\"]].plot()\n",
        "df_aapl[[\"Returns\"]].plot(ax=ax)\n",
        "ax.set_title(\"Daily returns\")\n",
        "ax.set_yaxis(\"USD\")\n",
        "ax.legend([\"Apple\", \"Tesla\"])\n",
        "ax.grid()\n",
        "plt.show()"
      ]
    },
    {
      "cell_type": "markdown",
      "id": "a60742b4",
      "metadata": {
        "id": "a60742b4"
      },
      "source": [
        "### Computing volatility"
      ]
    },
    {
      "cell_type": "code",
      "execution_count": null,
      "id": "52674b7b",
      "metadata": {
        "id": "52674b7b"
      },
      "outputs": [],
      "source": []
    },
    {
      "cell_type": "code",
      "execution_count": null,
      "id": "1e53d975",
      "metadata": {
        "id": "1e53d975"
      },
      "outputs": [],
      "source": [
        "print(\"Volatility of Apple Inc:\", vol_aapl)\n",
        "print(\"Volatility of Tesla Inc:\", vol_tsla)\n",
        "print(\"Ratio:\", vol_tsla/vol_aapl)"
      ]
    }
  ],
  "metadata": {
    "kernelspec": {
      "display_name": "Python 3 (ipykernel)",
      "language": "python",
      "name": "python3"
    },
    "language_info": {
      "codemirror_mode": {
        "name": "ipython",
        "version": 3
      },
      "file_extension": ".py",
      "mimetype": "text/x-python",
      "name": "python",
      "nbconvert_exporter": "python",
      "pygments_lexer": "ipython3",
      "version": "3.10.7"
    },
    "colab": {
      "provenance": [],
      "collapsed_sections": []
    }
  },
  "nbformat": 4,
  "nbformat_minor": 5
}